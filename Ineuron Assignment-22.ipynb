{
 "cells": [
  {
   "cell_type": "markdown",
   "id": "a01aa906",
   "metadata": {},
   "source": [
    "# Ineuron Assignment-22"
   ]
  },
  {
   "cell_type": "markdown",
   "id": "6a6a3e91",
   "metadata": {},
   "source": [
    "SUBMITTED BY : PRAAKSH KHILAR"
   ]
  },
  {
   "cell_type": "code",
   "execution_count": 1,
   "id": "eb48f1c2",
   "metadata": {},
   "outputs": [],
   "source": [
    "# Q1 : What is the result of the code, and explain?\n",
    "\n",
    ">>> X = 'iNeuron'\n",
    ">>> def func():\n",
    "print(X)\n",
    ">>> func()"
   ]
  },
  {
   "cell_type": "code",
   "execution_count": null,
   "id": "d64fae22",
   "metadata": {},
   "outputs": [],
   "source": [
    "# Ans ;\n",
    "\n",
    "The Result of this code is iNeuron. \n",
    "It is because the function intially looks for the variable X in its local scope but since there is no local variable X.\n",
    "It returns the value of global variable X i.e iNeuron. \n",
    "Please find the output below:"
   ]
  },
  {
   "cell_type": "code",
   "execution_count": 3,
   "id": "2f5061a1",
   "metadata": {},
   "outputs": [
    {
     "name": "stdout",
     "output_type": "stream",
     "text": [
      "iNeuron\n"
     ]
    }
   ],
   "source": [
    "X = 'iNeuron'\n",
    "def func():\n",
    "    print(X)\n",
    "func()"
   ]
  },
  {
   "cell_type": "code",
   "execution_count": null,
   "id": "c547e576",
   "metadata": {},
   "outputs": [],
   "source": [
    "# Q2 : What is the result of the code, and explain?\n",
    "\n",
    ">>> X = 'iNeuron'\n",
    ">>> def func():\n",
    "X = 'NI!'\n",
    ">>> func()\n",
    ">>> print(X)"
   ]
  },
  {
   "cell_type": "code",
   "execution_count": null,
   "id": "2fe7062e",
   "metadata": {},
   "outputs": [],
   "source": [
    "# Ans;\n",
    "\n",
    "The Result of this code is NI! because the function initially looks for the variable X in its local scope. \n",
    "If X is not available, then it checks for variable X in the global scope. Since here the X is present in the local scope, \n",
    "it directly prints the value NI! and does not look for a variable in global scope."
   ]
  },
  {
   "cell_type": "code",
   "execution_count": 5,
   "id": "81926372",
   "metadata": {},
   "outputs": [
    {
     "name": "stdout",
     "output_type": "stream",
     "text": [
      "NI!\n"
     ]
    }
   ],
   "source": [
    "X = 'iNeuron'\n",
    "def func():\n",
    "    X = 'NI!'\n",
    "    print(X)\n",
    "func()"
   ]
  },
  {
   "cell_type": "code",
   "execution_count": null,
   "id": "717d720e",
   "metadata": {},
   "outputs": [],
   "source": [
    "# Q3 : What does this code print, and why?\n",
    "\n",
    ">>> X = 'iNeuron'\n",
    ">>> def func():\n",
    "X = 'NI'\n",
    "print(X)\n",
    ">>> func()\n",
    ">>> print(X)"
   ]
  },
  {
   "cell_type": "code",
   "execution_count": null,
   "id": "71f452b8",
   "metadata": {},
   "outputs": [],
   "source": [
    "# Ans;\n",
    "\n",
    "The output of the code is NI and iNeuron. X=NI is in the local scope of the function func(). \n",
    "Hence the function prints the x value as NI. X = 'iNeuron' is in the global scope. Hence print(X) prints output as iNeuron"
   ]
  },
  {
   "cell_type": "code",
   "execution_count": 6,
   "id": "9a00f685",
   "metadata": {},
   "outputs": [
    {
     "name": "stdout",
     "output_type": "stream",
     "text": [
      "NI\n",
      "iNeuron\n"
     ]
    }
   ],
   "source": [
    "X = 'iNeuron'\n",
    "def func():\n",
    "    X = 'NI'\n",
    "    print(X)\n",
    "func()\n",
    "print(X)"
   ]
  },
  {
   "cell_type": "code",
   "execution_count": null,
   "id": "4a98aace",
   "metadata": {},
   "outputs": [],
   "source": [
    "# Q4 : What output does this code produce? Why?\n",
    "\n",
    ">>> X = 'iNeuron'\n",
    ">>> def func():\n",
    "global X\n",
    "X = 'NI'\n",
    ">>> func()\n",
    ">>> print(X)"
   ]
  },
  {
   "cell_type": "code",
   "execution_count": null,
   "id": "000f5ea7",
   "metadata": {},
   "outputs": [],
   "source": [
    "# Ans ;\n",
    "\n",
    "The output of the code is NI. \n",
    "The global keyword allows a variable to be accessible in the current scope. \n",
    "Since we are using global keyword inside the function func, it directly accesses the variable in X in global scope and changes its value to NI.\n",
    "Hence the output of the code is NI as shown below."
   ]
  },
  {
   "cell_type": "code",
   "execution_count": 7,
   "id": "30642f94",
   "metadata": {},
   "outputs": [
    {
     "name": "stdout",
     "output_type": "stream",
     "text": [
      "NI\n"
     ]
    }
   ],
   "source": [
    "X = 'iNeuron'\n",
    "def func():\n",
    "    global X\n",
    "    X = 'NI'\n",
    "func()\n",
    "print(X)"
   ]
  },
  {
   "cell_type": "code",
   "execution_count": null,
   "id": "ef74044e",
   "metadata": {},
   "outputs": [],
   "source": [
    "# Q5 : What about this code—what’s the output, and why?\n",
    "\n",
    ">>> X = 'iNeuron'\n",
    ">>> def func():\n",
    "X = 'NI'\n",
    "def nested():\n",
    "print(X)\n",
    "nested()\n",
    ">>> func()\n",
    ">>> X"
   ]
  },
  {
   "cell_type": "code",
   "execution_count": null,
   "id": "445a4e75",
   "metadata": {},
   "outputs": [],
   "source": [
    "# Ans;\n",
    "\n",
    "The output of the code is NI and iNeuron. Output of func() is 'NI' .\n",
    "Because it has a variable X as 'NI' in its local scope whereas Output of X is 'iNeuron' \n",
    "Because it refers to variable X that is having global scope instead of referring to a variable having a local scope in a function."
   ]
  },
  {
   "cell_type": "code",
   "execution_count": 8,
   "id": "0805882a",
   "metadata": {},
   "outputs": [
    {
     "name": "stdout",
     "output_type": "stream",
     "text": [
      "NI\n"
     ]
    },
    {
     "data": {
      "text/plain": [
       "'iNeuron'"
      ]
     },
     "execution_count": 8,
     "metadata": {},
     "output_type": "execute_result"
    }
   ],
   "source": [
    "X = 'iNeuron'\n",
    "def func():\n",
    "    X = 'NI'\n",
    "    def nested():\n",
    "        print(X)\n",
    "    nested()\n",
    "func()\n",
    "X"
   ]
  },
  {
   "cell_type": "code",
   "execution_count": null,
   "id": "9aa78e24",
   "metadata": {},
   "outputs": [],
   "source": [
    "# Q6 :  How about this code: what is its output in Python 3, and explain?\n",
    "\n",
    ">>> def func():\n",
    "X = 'NI'\n",
    "def nested():\n",
    "nonlocal X\n",
    "X = 'Spam'\n",
    "nested()\n",
    "print(X)\n",
    ">>> func()\n"
   ]
  },
  {
   "cell_type": "code",
   "execution_count": null,
   "id": "9b168cb1",
   "metadata": {},
   "outputs": [],
   "source": [
    "# Ans ;\n",
    "\n",
    "The output of the code is Spam. nonlocal keyword in python is used to declare a variable as not local.\n",
    "Hence the statement X = \"Spam\" is modified in the global scope.\n",
    "Hence the output of print(X) statement is Spam"
   ]
  },
  {
   "cell_type": "code",
   "execution_count": 9,
   "id": "2aa8d7f3",
   "metadata": {},
   "outputs": [
    {
     "name": "stdout",
     "output_type": "stream",
     "text": [
      "Spam\n"
     ]
    }
   ],
   "source": [
    "def func():\n",
    "    X = 'NI'\n",
    "    def nested():\n",
    "        nonlocal X\n",
    "        X = 'Spam'\n",
    "    nested()\n",
    "    print(X)\n",
    "func()"
   ]
  },
  {
   "cell_type": "code",
   "execution_count": null,
   "id": "e79605a7",
   "metadata": {},
   "outputs": [],
   "source": []
  }
 ],
 "metadata": {
  "kernelspec": {
   "display_name": "Python 3 (ipykernel)",
   "language": "python",
   "name": "python3"
  },
  "language_info": {
   "codemirror_mode": {
    "name": "ipython",
    "version": 3
   },
   "file_extension": ".py",
   "mimetype": "text/x-python",
   "name": "python",
   "nbconvert_exporter": "python",
   "pygments_lexer": "ipython3",
   "version": "3.9.12"
  }
 },
 "nbformat": 4,
 "nbformat_minor": 5
}
